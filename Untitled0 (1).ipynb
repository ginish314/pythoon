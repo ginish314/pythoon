{
  "nbformat": 4,
  "nbformat_minor": 0,
  "metadata": {
    "colab": {
      "provenance": []
    },
    "kernelspec": {
      "name": "python3",
      "display_name": "Python 3"
    },
    "language_info": {
      "name": "python"
    }
  },
  "cells": [
    {
      "cell_type": "code",
      "execution_count": null,
      "metadata": {
        "id": "KAwP5gJcmEtO"
      },
      "outputs": [],
      "source": []
    },
    {
      "cell_type": "markdown",
      "source": [
        "#QUESTION 1  What are data structures, and why are they important3\n",
        "\n",
        "Answer-Data structures are ways of organizing and storing data in a computer so that it can be used efficiently.\n",
        "They are important because they help in managing large amounts of data, make searching and processing faster, save memory, and improve the performance of programs.\n",
        "\n",
        "#2.Explain the difference between mutable and immutable data types with examples?\n",
        "\n",
        "Answer-Mutable vs Immutable Data Types in Python:\n",
        "\n",
        "Mutable data types can be changed after creation.\n",
        "Examples: list, dictionary, set.\n",
        "\n",
        "a = [1, 2, 3]\n",
        "a[0] = 10  # List is changed\n",
        "\n",
        "\n",
        "Immutable data types cannot be changed after creation. If modified, a new object is created.\n",
        "Examples: int, float, string, tuple.\n",
        "\n",
        "b = \"hello\"\n",
        "b = b + \" world\"  # New string is created\n",
        "\n",
        "#3. What are the main differences between lists and tuples in Python\n",
        "\n",
        "Answer-Lists vs Tuples in Python:\n",
        "\n",
        "A list is mutable, meaning its elements can be changed after creation. It is written using square brackets [].\n",
        "\n",
        "A tuple is immutable, meaning its elements cannot be changed once created. It is written using parentheses ().\n",
        "\n",
        "Lists are generally slower but more flexible, while tuples are faster and used for fixed data.\n",
        "\n",
        "Example:\n",
        "\n",
        "my_list = [1, 2, 3]     # List (can be changed)\n",
        "my_tuple = (1, 2, 3)    # Tuple (cannot be changed)\n",
        "\n",
        "#4. Describe how dictionaries store data?\n",
        "\n",
        "Answer-How Dictionaries Store Data in Python\n",
        "\n",
        "Dictionaries store data in the form of key–value pairs.\n",
        "Each value is accessed using its unique key, not by index like lists.\n",
        "\n",
        "Keys must be unique and immutable (like strings, numbers, tuples).\n",
        "\n",
        "Values can be any data type.\n",
        "\n",
        "Data is stored in an unordered way (Python 3.7+ maintains insertion order).\n",
        "\n",
        "Example:\n",
        "\n",
        "student = {\"name\": \"Alice\", \"age\": 20}\n",
        "print(student[\"name\"])  # Output: Alice\n",
        "\n",
        "#5. Why might you use a set instead of a list in Python?\n",
        "\n",
        "Answer-Why use a set instead of a list in Python?\n",
        "\n",
        "we might use a set instead of a list when:\n",
        "\n",
        "we need to store only unique values (no duplicates).\n",
        "\n",
        "we want faster searching, adding, or removing elements.\n",
        "\n",
        "Order of elements does not matter.\n",
        "\n",
        "Example:\n",
        "\n",
        "numbers = [1, 2, 2, 3]\n",
        "unique_numbers = set(numbers)  # {1, 2, 3}\n",
        "\n",
        "#6. What is a string in Python, and how is it different from a list?\n",
        "\n",
        "Answer-A string in Python is a sequence of characters enclosed in quotes, like \"hello\" or 'Python'.\n",
        "\n",
        "Difference from a list:\n",
        "\n",
        "A string is immutable (cannot be changed after creation), while a list is mutable (can be changed).\n",
        "\n",
        "A string stores characters, while a list can store different data types like numbers, strings, etc.\n",
        "\n",
        "Strings use quotes \" \", lists use square brackets [].\n",
        "\n",
        "Example:\n",
        "\n",
        "text = \"hello\"      # String\n",
        "items = [\"h\", \"e\", \"l\", \"l\", \"o\"]  # List\n",
        "\n",
        "#7. How do tuples ensure data integrity in Python3\n",
        "\n",
        "Answer-Tuples ensure data integrity because they are immutable, which means their values cannot be changed, added, or removed after creation.\n",
        "This prevents accidental modifications and keeps the data safe and consistent.\n",
        "\n",
        "Example:\n",
        "\n",
        "user_info = (\"Alice\", 20, \"Student\")  # Cannot be changed\n",
        "\n",
        "#8. What is a hash table, and how does it relate to dictionaries in Python?\n",
        "\n",
        "Amswer-A hash table is a data structure that stores data in key–value pairs and uses a hash function to quickly find the location of each key.\n",
        "\n",
        "In Python, dictionaries are implemented using hash tables.\n",
        "\n",
        "Keys are hashed to find their position.\n",
        "\n",
        "This allows fast lookup, insertion, and deletion of values by key.\n",
        "\n",
        "Example:\n",
        "\n",
        "student = {\"name\": \"Alice\", \"age\": 20}\n",
        "print(student[\"name\"])  # Accesses value quickly using\n",
        "\n",
        "#9. Can lists contain different data types in Python3\n",
        "\n",
        " lists in Python can store elements of different data types in the same list.\n",
        "\n",
        "Example:\n",
        "\n",
        "my_list = [1, \"hello\", 3.5, True]\n",
        "print(my_list)\n",
        "\n",
        "\n",
        "Output: [1, 'hello', 3.5, True]\n",
        "\n",
        "#10. Explain why strings are immutable in Python\n",
        "\n",
        "Answer-Strings in Python are immutable, which means their contents cannot be changed after creation.\n",
        "\n",
        "Data Integrity: Prevents accidental changes to text values.\n",
        "\n",
        "Performance: Immutable objects can be stored and accessed faster.\n",
        "\n",
        "Hashing: Allows strings to be used as keys in dictionaries and elements in sets.\n",
        "\n",
        "Example:\n",
        "\n",
        "text = \"hello\"\n",
        "# text[0] = \"H\"  \n",
        "\n",
        "#11.What advantages do dictionaries offer over lists for certain tasks\n",
        "\n",
        "Answer-Advantages of Dictionaries Over Lists\n",
        "\n",
        "Fast Lookup: Access values using keys instead of searching by index.\n",
        "\n",
        "Key–Value Pairs: Store related data together (like name → age).\n",
        "\n",
        "Unique Keys: Automatically avoid duplicate keys.\n",
        "\n",
        "Flexible Data Access: Useful for tasks where data needs to be retrieved by a meaningful identifier rather than position.\n",
        "\n",
        "Example:\n",
        "\n",
        "student = {\"name\": \"Alice\", \"age\": 20}\n",
        "print(student[\"name\"])  # Fast access using key\n",
        "\n",
        "\n",
        "#12.Describe a scenario where using a tuple would be preferable over a list\n",
        "\n",
        "Answer-Scenario Where a Tuple Is Preferable Over a List\n",
        "\n",
        "Tuples are immutable, so they are ideal when you want to store fixed data that should not change.\n",
        "\n",
        "Example Scenario:\n",
        "\n",
        "Storing coordinates of a point (x, y) that should not be modified.\n",
        "\n",
        "Storing RGB color values (255, 0, 0).\n",
        "\n",
        "Using data as keys in a dictionary (lists cannot be used as keys because they are mutable).\n",
        "\n",
        "Example:\n",
        "\n",
        "point = (10, 20)\n",
        "\n",
        "#13.How do sets handle duplicate values in Python?\n",
        "\n",
        "Answer-Sets automatically remove duplicate values.\n",
        "\n",
        "Only unique elements are stored, regardless of how many duplicates are added.\n",
        "\n",
        "Order of elements in a set does not matter.\n",
        "\n",
        "Example:\n",
        "\n",
        "numbers = [1, 2, 2, 3, 3, 3]\n",
        "unique_numbers = set(numbers)\n",
        "print(unique_numbers)  # Output: {1, 2, 3}\n",
        "\n",
        "#14.How does the “in” keyword work differently for lists and dictionaries3\n",
        "\n",
        "Answer-Lists: Checks if a value exists in the list.\n",
        "\n",
        "my_list = [1, 2, 3]\n",
        "print(2 in my_list)  # True\n",
        "\n",
        "\n",
        "Dictionaries: Checks if a key exists in the dictionary (not the value).\n",
        "\n",
        "student = {\"name\": \"Alice\", \"age\": 20}\n",
        "print(\"name\" in student)  # True\n",
        "print(\"Alice\" in student) # False\n",
        "\n",
        "#15.Can you modify the elements of a tuple? Explain why or why not?\n",
        "\n",
        "Answer-No, you cannot modify the elements of a tuple because tuples are immutable in Python.\n",
        "\n",
        "Once a tuple is created, its elements cannot be changed, added, or removed.\n",
        "\n",
        "This ensures data integrity and allows tuples to be used as dictionary keys or elements in sets.\n",
        "\n",
        "Example:\n",
        "\n",
        "t = (1, 2, 3)\n",
        "# t[0] = 10  # This will cause an error\n",
        "\n",
        "#16.What is a nested dictionary, and give an example of its use case?\n",
        "\n",
        "Answer--A nested dictionary is a dictionary that contains another dictionary as a value.\n",
        "It is useful for storing complex, structured data.\n",
        "\n",
        "Example Use Case: Storing student information with multiple details\n",
        "\n",
        "students = {\n",
        "    \"Alice\": {\"age\": 20, \"grade\": \"A\"},\n",
        "    \"Bob\": {\"age\": 22, \"grade\": \"B\"}\n",
        "}\n",
        "\n",
        "print(students[\"Alice\"][\"grade\"])  # Output: A\n",
        "\n",
        "#17. Describe the time complexity of accessing elements in a dictionary?\n",
        "\n",
        "Answer-Time Complexity of Accessing Elements in a Dictionary\n",
        "\n",
        "Accessing elements in a Python dictionary using a key is very fast.\n",
        "\n",
        "It has an average time complexity of O(1) (constant time) because dictionaries are implemented using hash tables.\n",
        "\n",
        "This means retrieving a value does not depend on the number of items in the dictionary.\n",
        "\n",
        "#18. In what situations are lists preferred over dictionaries?\n",
        "\n",
        "answer-When Lists Are Preferred Over Dictionaries\n",
        "\n",
        "Lists are preferred when:\n",
        "\n",
        "Order Matters: You need to maintain the sequence of elements.\n",
        "\n",
        "Simple Collection of Items: You just want to store a collection without key–value pairs.\n",
        "\n",
        "Frequent Iteration: You mainly need to loop through all items in order.\n",
        "\n",
        "Duplicate Values Allowed: Lists can contain duplicates, whereas dictionary keys must be unique.\n",
        "\n",
        "#19.Why are dictionaries considered unordered, and how does that affect data retrieval?\n",
        "\n",
        "Answer-Dictionaries in Python (before version 3.7) are unordered, meaning the items do not have a fixed sequence.\n",
        "\n",
        "Even though Python 3.7+ maintains insertion order, dictionaries are still accessed by key, not by position.\n",
        "\n",
        "Effect on Data Retrieval: You cannot access items by index; you must use the key to get the value.\n",
        "\n",
        "#20.P Explain the difference between a list and a dictionary in terms of data retrieval\n",
        "\n",
        "Answer--Difference Between a List and a Dictionary in Data Retrieval\n",
        "\n",
        "List:\n",
        "\n",
        "Elements are accessed by index (position).\n",
        "\n",
        "Slower to find an element if you don’t know its position.\n",
        "\n",
        "my_list = [10, 20, 30]\n",
        "print(my_list[1])  # Output: 20\n",
        "\n",
        "\n",
        "Dictionary:\n",
        "\n",
        "Elements are accessed by key.\n",
        "\n",
        "Fast retrieval (average O(1)) regardless of the number of items.\n",
        "\n",
        "my_dict = {\"a\": 10, \"b\": 20}\n",
        "print(my_dict[\"b\"])  # Output: 20"
      ],
      "metadata": {
        "id": "fjvsfwlYmnSZ"
      }
    },
    {
      "cell_type": "code",
      "source": [
        "#1Write a code to create a string with your name and print it\n",
        "\n",
        "\n",
        "\n",
        "name = \"Ginish\"\n",
        "print(name)"
      ],
      "metadata": {
        "colab": {
          "base_uri": "https://localhost:8080/"
        },
        "id": "6X0yvYQMpWii",
        "outputId": "1cf2ce66-03d8-4d49-a534-f9859fb255c2"
      },
      "execution_count": 4,
      "outputs": [
        {
          "output_type": "stream",
          "name": "stdout",
          "text": [
            "Ginish\n"
          ]
        }
      ]
    },
    {
      "cell_type": "code",
      "source": [
        "#2 Write a code to find the length of the string \"Hello World\"\n",
        "\n",
        "text = \"Hello World\"\n",
        "print(len(text))\n"
      ],
      "metadata": {
        "colab": {
          "base_uri": "https://localhost:8080/"
        },
        "id": "9Z2Wv3C7poN9",
        "outputId": "e3c15ed1-d76c-47d5-f2e0-be429c7a0253"
      },
      "execution_count": 5,
      "outputs": [
        {
          "output_type": "stream",
          "name": "stdout",
          "text": [
            "11\n"
          ]
        }
      ]
    },
    {
      "cell_type": "code",
      "source": [
        "#3  Write a code to slice the first 3 characters from the string \"Python Programming\"\n",
        "\n",
        "text = \"Python Programming\"\n",
        "print(text[:3])"
      ],
      "metadata": {
        "colab": {
          "base_uri": "https://localhost:8080/"
        },
        "id": "FK4JqyUip1W2",
        "outputId": "43828cc1-a444-419b-9335-6cf7d1cbbdee"
      },
      "execution_count": 6,
      "outputs": [
        {
          "output_type": "stream",
          "name": "stdout",
          "text": [
            "Pyt\n"
          ]
        }
      ]
    },
    {
      "cell_type": "code",
      "source": [
        "#4 Write a code to convert the string \"hello\" to uppercase\n",
        "\n",
        "text = \"hello\"\n",
        "print(text.upper())"
      ],
      "metadata": {
        "colab": {
          "base_uri": "https://localhost:8080/"
        },
        "id": "sCVEOUb4qDJX",
        "outputId": "21f0687c-0e29-462c-85fc-1489667500c7"
      },
      "execution_count": 7,
      "outputs": [
        {
          "output_type": "stream",
          "name": "stdout",
          "text": [
            "HELLO\n"
          ]
        }
      ]
    },
    {
      "cell_type": "code",
      "source": [
        "#5 Write a code to replace the word \"apple\" with \"orange\" in the string \"I like apple\"\n",
        "\n",
        "text = \"I like apple\"\n",
        "text = text.replace(\"apple\", \"orange\")\n",
        "print(text)"
      ],
      "metadata": {
        "colab": {
          "base_uri": "https://localhost:8080/"
        },
        "id": "6gBMM28NqSUY",
        "outputId": "67eded29-c069-4651-ba90-04a9ae92cab0"
      },
      "execution_count": 8,
      "outputs": [
        {
          "output_type": "stream",
          "name": "stdout",
          "text": [
            "I like orange\n"
          ]
        }
      ]
    },
    {
      "cell_type": "code",
      "source": [
        "#6. Write a code to create a list with numbers 1 to 5 and print it\n",
        "\n",
        "numbers = [1, 2, 3, 4, 5]\n",
        "print(numbers)"
      ],
      "metadata": {
        "colab": {
          "base_uri": "https://localhost:8080/"
        },
        "id": "ag8Y54oiqfR2",
        "outputId": "cee6cbdd-1f1a-4773-97b4-4916c746f304"
      },
      "execution_count": 9,
      "outputs": [
        {
          "output_type": "stream",
          "name": "stdout",
          "text": [
            "[1, 2, 3, 4, 5]\n"
          ]
        }
      ]
    },
    {
      "cell_type": "code",
      "source": [
        "#7. Write a code to append the number 10 to the list [1, 2, 3, 4]\n",
        "\n",
        "numbers = [1, 2, 3, 4]\n",
        "numbers.append(10)\n",
        "print(numbers)"
      ],
      "metadata": {
        "colab": {
          "base_uri": "https://localhost:8080/"
        },
        "id": "M8wfkfrLqqol",
        "outputId": "9c8eea2f-5da4-47bd-d81b-44995a1ef9e2"
      },
      "execution_count": 10,
      "outputs": [
        {
          "output_type": "stream",
          "name": "stdout",
          "text": [
            "[1, 2, 3, 4, 10]\n"
          ]
        }
      ]
    },
    {
      "cell_type": "code",
      "source": [
        " #8.Write a code to remove the number 3 from the list [1, 2, 3, 4, 5]\n",
        "\n",
        "numbers = [1, 2, 3, 4, 5]\n",
        "numbers.remove(3)\n",
        "print(numbers)"
      ],
      "metadata": {
        "colab": {
          "base_uri": "https://localhost:8080/"
        },
        "id": "QmChSnVGq94A",
        "outputId": "980b830d-8d4f-496a-8f10-326922bfc31a"
      },
      "execution_count": 11,
      "outputs": [
        {
          "output_type": "stream",
          "name": "stdout",
          "text": [
            "[1, 2, 4, 5]\n"
          ]
        }
      ]
    },
    {
      "cell_type": "code",
      "source": [
        "#9.Write a code to access the second element in the list ['a', 'b', 'c', 'd']\n",
        "\n",
        "letters = ['a', 'b', 'c', 'd']\n",
        "print(letters[1])"
      ],
      "metadata": {
        "colab": {
          "base_uri": "https://localhost:8080/"
        },
        "id": "T9OeCZmcrKkf",
        "outputId": "00d7e43f-2bfb-408a-f4d8-d27b29538df2"
      },
      "execution_count": 12,
      "outputs": [
        {
          "output_type": "stream",
          "name": "stdout",
          "text": [
            "b\n"
          ]
        }
      ]
    },
    {
      "cell_type": "code",
      "source": [
        "#10. Write a code to reverse the list [10, 20, 30, 40, 50].\n",
        "\n",
        "numbers = [10, 20, 30, 40, 50]\n",
        "numbers.reverse()\n",
        "print(numbers)"
      ],
      "metadata": {
        "colab": {
          "base_uri": "https://localhost:8080/"
        },
        "id": "kRB9LBiBrXwH",
        "outputId": "b685a631-cf44-42cb-bb94-f60b5f3f99c2"
      },
      "execution_count": 13,
      "outputs": [
        {
          "output_type": "stream",
          "name": "stdout",
          "text": [
            "[50, 40, 30, 20, 10]\n"
          ]
        }
      ]
    },
    {
      "cell_type": "code",
      "source": [
        "#11 Write a code to create a tuple with the elements 100, 200, 300 and print it.\n",
        "\n",
        "numbers = (100, 200, 300)\n",
        "print(numbers)\n",
        "\n",
        "#12. Write a code to access the second-to-last element of the tuple ('red', 'green', 'blue', 'yellow').\n",
        "\n",
        "colors = ('red', 'green', 'blue', 'yellow')\n",
        "print(colors[-2])\n",
        "\n",
        "\n",
        "#13. Write a code to find the minimum number in the tuple (10, 20, 5, 15).\n",
        "numbers = (10, 20, 5, 15)\n",
        "print(min(numbers))\n",
        "\n",
        "\n",
        "#14. Write a code to find the index of the element \"cat\" in the tuple ('dog', 'cat', 'rabbit').\n",
        "\n",
        "animals = ('dog', 'cat', 'rabbit')\n",
        "print(animals.index(\"cat\"))\n",
        "\n",
        "\n",
        "#15. Write a code to create a tuple containing three different fruits and check if \"kiwi\" is in it\n",
        "\n",
        "fruits = (\"apple\", \"banana\", \"mango\")\n",
        "print(\"kiwi\" in fruits)"
      ],
      "metadata": {
        "colab": {
          "base_uri": "https://localhost:8080/"
        },
        "id": "24PSpoWvr2o1",
        "outputId": "b51238eb-5ed2-4eae-fadb-e892c5515a32"
      },
      "execution_count": 14,
      "outputs": [
        {
          "output_type": "stream",
          "name": "stdout",
          "text": [
            "(100, 200, 300)\n",
            "blue\n",
            "5\n",
            "1\n",
            "False\n"
          ]
        }
      ]
    },
    {
      "cell_type": "code",
      "source": [
        "#16. Write a code to create a set with the elements 'a', 'b', 'c' and print it.\n",
        "my_set = {'a', 'b', 'c'}\n",
        "print(my_set)\n",
        "\n",
        "#17. Write a code to clear all elements from the set {1, 2, 3, 4, 5}.\n",
        "numbers = {1, 2, 3, 4, 5}\n",
        "numbers.clear()\n",
        "print(numbers)\n",
        "\n",
        "#18. Write a code to remove the element 4 from the set {1, 2, 3, 4}.\n",
        "numbers = {1, 2, 3, 4}\n",
        "numbers.remove(4)\n",
        "print(numbers)\n",
        "\n",
        "#19. Write a code to find the union of two sets {1, 2, 3} and {3, 4, 5}.\n",
        "set1 = {1, 2, 3}\n",
        "set2 = {3, 4, 5}\n",
        "print(set1.union(set2))\n",
        "#20. Write a code to find the intersection of two sets {1, 2, 3} and {2, 3, 4}.\n",
        "set1 = {1, 2, 3}\n",
        "set2 = {2, 3, 4}\n",
        "print(set1.intersection(set2))\n",
        "#21. Write a code to create a dictionary with the keys \"name\", \"age\", and \"city\", and print it.\n",
        "person = {\"name\": \"John\", \"age\": 25, \"city\": \"New York\"}\n",
        "print(person)\n",
        "#22. Write a code to add a new key-value pair \"country\": \"USA\" to the dictionary {'name': 'John', 'age': 25}.\n",
        "\n",
        "person = {'name': 'John', 'age': 25}\n",
        "person[\"country\"] = \"USA\"\n",
        "print(person)"
      ],
      "metadata": {
        "colab": {
          "base_uri": "https://localhost:8080/"
        },
        "id": "ar46O_xXtQ-T",
        "outputId": "3b2b2d9d-ac8e-4cd4-d6ac-8ded4d56c56d"
      },
      "execution_count": 15,
      "outputs": [
        {
          "output_type": "stream",
          "name": "stdout",
          "text": [
            "{'b', 'a', 'c'}\n",
            "set()\n",
            "{1, 2, 3}\n",
            "{1, 2, 3, 4, 5}\n",
            "{2, 3}\n",
            "{'name': 'John', 'age': 25, 'city': 'New York'}\n",
            "{'name': 'John', 'age': 25, 'country': 'USA'}\n"
          ]
        }
      ]
    },
    {
      "cell_type": "code",
      "source": [
        "#23. Write a code to access the value associated with the key \"name\" in the dictionary {'name': 'Alice', 'age': 30}.\n",
        "person = {'name': 'Alice', 'age': 30}\n",
        "print(person[\"name\"])\n",
        "\n",
        "#24. Write a code to remove the key \"age\" from the dictionary {'name': 'Bob', 'age': 22, 'city': 'New York'}.\n",
        "\n",
        "person = {'name': 'Bob', 'age': 22, 'city': 'New York'}\n",
        "person.pop(\"age\")\n",
        "print(person)\n",
        "\n",
        "#25. Write a code to check if the key \"city\" exists in the dictionary {'name': 'Alice', 'city': 'Paris'}.\n",
        "person = {'name': 'Alice', 'city': 'Paris'}\n",
        "print(\"city\" in person)\n",
        "\n",
        "#26. Write a code to create a list, a tuple, and a dictionary, and print them all.\n",
        "\n",
        "my_list = [1, 2, 3, 4, 5]\n",
        "my_tuple = (10, 20, 30)\n",
        "my_dict = {\"name\": \"John\", \"age\": 25}\n",
        "\n",
        "print(my_list)\n",
        "print(my_tuple)\n",
        "print(my_dict)\n",
        "\n",
        "#27. Write a code to create a list of 5 random numbers between 1 and 100, sort it in ascending order, and print the\n",
        "import random\n",
        "\n",
        "numbers = random.sample(range(1, 101), 5)\n",
        "numbers.sort()\n",
        "print(numbers)\n",
        "#28. Write a code to create a list with strings and print the element at the third index.\n",
        "fruits = [\"apple\", \"banana\", \"cherry\", \"date\", \"elderberry\"]\n",
        "print(fruits[3])\n",
        "#29. Write a code to combine two dictionaries into one and print the result.\n",
        "dict1 = {'a': 1, 'b': 2}\n",
        "dict2 = {'c': 3, 'd': 4}\n",
        "\n",
        "combined_dict = {**dict1, **dict2}\n",
        "print(combined_dict)\n",
        "#30. Write a code to convert a list of strings into a set\n",
        "\n",
        "words = [\"apple\", \"banana\", \"cherry\", \"apple\"]\n",
        "words_set = set(words)\n",
        "print(words_set)"
      ],
      "metadata": {
        "colab": {
          "base_uri": "https://localhost:8080/"
        },
        "id": "Vo69NSpWuOtw",
        "outputId": "77c853e2-37f6-496d-852e-fc49716e29e3"
      },
      "execution_count": 17,
      "outputs": [
        {
          "output_type": "stream",
          "name": "stdout",
          "text": [
            "Alice\n",
            "{'name': 'Bob', 'city': 'New York'}\n",
            "True\n",
            "[1, 2, 3, 4, 5]\n",
            "(10, 20, 30)\n",
            "{'name': 'John', 'age': 25}\n",
            "[7, 40, 45, 71, 91]\n",
            "date\n",
            "{'a': 1, 'b': 2, 'c': 3, 'd': 4}\n",
            "{'apple', 'cherry', 'banana'}\n"
          ]
        }
      ]
    }
  ]
}